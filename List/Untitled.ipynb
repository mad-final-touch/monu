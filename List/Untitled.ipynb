{
 "cells": [
  {
   "cell_type": "code",
   "execution_count": 3,
   "id": "fcc825a1-d581-43dc-8d08-67dff4c9a922",
   "metadata": {},
   "outputs": [
    {
     "name": "stdout",
     "output_type": "stream",
     "text": [
      "[False, False, True]\n"
     ]
    }
   ],
   "source": [
    "lst=[True, True,False]\n",
    "i=0\n",
    "while i<=2:\n",
    "    if lst[i]==True:\n",
    "        lst[i]=False\n",
    "        \n",
    "    else:\n",
    "        lst[i]=True\n",
    "    i=i+1\n",
    "print(lst)"
   ]
  },
  {
   "cell_type": "code",
   "execution_count": 4,
   "id": "fa8bb328-d2c8-4a23-980a-44925e73e89d",
   "metadata": {},
   "outputs": [
    {
     "name": "stdout",
     "output_type": "stream",
     "text": [
      "[False, False, False, True, True, False]\n"
     ]
    }
   ],
   "source": [
    "lst=[True,True,True,False,False,True]\n",
    "\n",
    "for i in range(0,len(lst)):\n",
    "    if lst[i]==True:\n",
    "        lst[i]=False\n",
    "    else:\n",
    "        lst[i]=True\n",
    "print(lst)"
   ]
  },
  {
   "cell_type": "code",
   "execution_count": 5,
   "id": "4fb9debd-a4a3-42b6-a119-fa263d6593dd",
   "metadata": {},
   "outputs": [
    {
     "name": "stdout",
     "output_type": "stream",
     "text": [
      "[False, False, False, True, True, False]\n"
     ]
    }
   ],
   "source": [
    "lst=[True,True,True,False,False,True]\n",
    "\n",
    "for i in range(0,len(lst)):\n",
    "    if lst[i]:\n",
    "        lst[i]=False\n",
    "    else:\n",
    "        lst[i]=True\n",
    "print(lst)"
   ]
  },
  {
   "cell_type": "code",
   "execution_count": 7,
   "id": "b68c6af6-f594-41dc-9593-feb1d65f3415",
   "metadata": {},
   "outputs": [
    {
     "name": "stdout",
     "output_type": "stream",
     "text": [
      "[False, False, False, True, True, False]\n"
     ]
    }
   ],
   "source": [
    "lst=[True,True,True,False,False,True]\n",
    "\n",
    "for i in range(0,len(lst)):\n",
    "    lst[i]= not lst[i]\n",
    "print(lst)"
   ]
  },
  {
   "cell_type": "code",
   "execution_count": 9,
   "id": "c1e70ee4-16bf-49f3-a8db-06fec44c4055",
   "metadata": {},
   "outputs": [
    {
     "name": "stdout",
     "output_type": "stream",
     "text": [
      "[False, False, False, True, True, False]\n"
     ]
    }
   ],
   "source": [
    "lst=[True,True,True,False,False,True]\n",
    "\n",
    "for i in range(0,len(lst)):\n",
    "    if not lst[i]:\n",
    "        lst[i]=True\n",
    "    else:\n",
    "        lst[i]=False\n",
    "print(lst)"
   ]
  },
  {
   "cell_type": "code",
   "execution_count": 13,
   "id": "762f599a-3967-49bf-bdef-9db04fd6ea84",
   "metadata": {},
   "outputs": [
    {
     "name": "stdout",
     "output_type": "stream",
     "text": [
      "6 5 4 3 2 1 "
     ]
    }
   ],
   "source": [
    "lst=[1,2,3,4,5,6]\n",
    "for i in range(-1,-7,-1):\n",
    "    print(lst[i],end=\" \")"
   ]
  },
  {
   "cell_type": "code",
   "execution_count": 17,
   "id": "29aa2b6a-192c-47b5-babd-8d2808211efe",
   "metadata": {},
   "outputs": [
    {
     "name": "stdout",
     "output_type": "stream",
     "text": [
      "[6, 5, 4, 3, 2, 1]\n"
     ]
    }
   ],
   "source": [
    "lst=[1,2,3,4,5,6]\n",
    "opp_lst=[]\n",
    "for i in range(-1,-7,-1):\n",
    "    opp_lst.append(lst[i])\n",
    "lst=opp_lst\n",
    "print(lst)"
   ]
  },
  {
   "cell_type": "code",
   "execution_count": 20,
   "id": "23d4c9d2-0dee-4942-87e9-328e44231820",
   "metadata": {},
   "outputs": [
    {
     "name": "stdout",
     "output_type": "stream",
     "text": [
      "[6, 5, 4, 3, 2, 1]\n"
     ]
    }
   ],
   "source": [
    "lst=[1,2,3,4,5,6]\n",
    "lst.reverse()\n",
    "print(lst)"
   ]
  },
  {
   "cell_type": "code",
   "execution_count": 26,
   "id": "e9166d28-099f-4847-92c8-c91a042c8e0d",
   "metadata": {},
   "outputs": [
    {
     "name": "stdout",
     "output_type": "stream",
     "text": [
      "['ayush', 7, 6, 5, 4, 3, 2, 1]\n"
     ]
    }
   ],
   "source": [
    "lst=[1,2,3,4,5,6,7,'ayush']\n",
    "i=0\n",
    "j=-1\n",
    "while i<len(lst)/2:\n",
    "    lst_temp=lst[i]\n",
    "    lst[i]=lst[j]\n",
    "    lst[j]=lst_temp\n",
    "    i=i+1\n",
    "    j=j-1\n",
    "print(lst)"
   ]
  },
  {
   "cell_type": "code",
   "execution_count": 29,
   "id": "6277b1bc-0cff-4083-95a8-af32d7440b76",
   "metadata": {},
   "outputs": [
    {
     "name": "stdout",
     "output_type": "stream",
     "text": [
      "True\n"
     ]
    }
   ],
   "source": [
    "pld=\"abccba\"\n",
    "i=0\n",
    "j=-1\n",
    "ans=True\n",
    "while i<len(pld)/2:\n",
    "    if pld[i]!=pld[j]:\n",
    "        ans=False\n",
    "\n",
    "    i+=1\n",
    "    j-=1\n",
    "print(ans)"
   ]
  },
  {
   "cell_type": "code",
   "execution_count": 29,
   "id": "b0e0e3d4-f0e1-4a1b-9eac-67585f605364",
   "metadata": {},
   "outputs": [
    {
     "name": "stdout",
     "output_type": "stream",
     "text": [
      "True\n"
     ]
    }
   ],
   "source": [
    "pld=\"abccba\"\n",
    "i=0\n",
    "j=-1\n",
    "ans=True\n",
    "while i<len(pld)/2:\n",
    "    if pld[i]!=pld[j]:\n",
    "        ans=False\n",
    "\n",
    "    i+=1\n",
    "    j-=1\n",
    "print(ans)"
   ]
  },
  {
   "cell_type": "code",
   "execution_count": null,
   "id": "de566ab4-9c7b-483f-bc21-22956691963e",
   "metadata": {},
   "outputs": [],
   "source": [
    "n=123\n"
   ]
  }
 ],
 "metadata": {
  "kernelspec": {
   "display_name": "Python 3 (ipykernel)",
   "language": "python",
   "name": "python3"
  },
  "language_info": {
   "codemirror_mode": {
    "name": "ipython",
    "version": 3
   },
   "file_extension": ".py",
   "mimetype": "text/x-python",
   "name": "python",
   "nbconvert_exporter": "python",
   "pygments_lexer": "ipython3",
   "version": "3.13.3"
  }
 },
 "nbformat": 4,
 "nbformat_minor": 5
}
