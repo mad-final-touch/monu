{
 "cells": [
  {
   "cell_type": "code",
   "execution_count": 1,
   "id": "906e5a08-666a-404f-b824-5d22e3e509c6",
   "metadata": {},
   "outputs": [
    {
     "name": "stdout",
     "output_type": "stream",
     "text": [
      "hi\n"
     ]
    }
   ],
   "source": [
    "print(\"hi\")"
   ]
  },
  {
   "cell_type": "raw",
   "id": "34ade234-4d37-435f-bc7c-fa5a6263b6f9",
   "metadata": {},
   "source": [
    "print('hii')"
   ]
  },
  {
   "cell_type": "code",
   "execution_count": null,
   "id": "f079d249-3301-4946-ba73-10ad0e96bea4",
   "metadata": {},
   "outputs": [],
   "source": []
  },
  {
   "cell_type": "code",
   "execution_count": null,
   "id": "564ed2fe-45e1-4564-b0a4-bfca17f9b364",
   "metadata": {},
   "outputs": [],
   "source": []
  },
  {
   "cell_type": "code",
   "execution_count": 2,
   "id": "4c1ad500-6bfc-4a1c-8ced-d3ced42f5103",
   "metadata": {},
   "outputs": [
    {
     "name": "stdout",
     "output_type": "stream",
     "text": [
      "hi\n"
     ]
    }
   ],
   "source": [
    "print(\"hi\")"
   ]
  },
  {
   "cell_type": "code",
   "execution_count": 3,
   "id": "26b80b9f-8f8c-47a0-a225-254ecb30e92d",
   "metadata": {},
   "outputs": [
    {
     "name": "stdout",
     "output_type": "stream",
     "text": [
      "hi\n"
     ]
    }
   ],
   "source": [
    "print('hi')"
   ]
  },
  {
   "cell_type": "code",
   "execution_count": 4,
   "id": "a53ca817-2d8e-4838-9a6f-4610c74af1be",
   "metadata": {},
   "outputs": [
    {
     "name": "stdout",
     "output_type": "stream",
     "text": [
      "hii\n"
     ]
    }
   ],
   "source": [
    "print('hii')"
   ]
  },
  {
   "cell_type": "code",
   "execution_count": 5,
   "id": "ff93a936-4528-4a73-84a1-0447da8fab2d",
   "metadata": {},
   "outputs": [
    {
     "name": "stdout",
     "output_type": "stream",
     "text": [
      "str\n"
     ]
    }
   ],
   "source": [
    "print(\"str\")"
   ]
  },
  {
   "cell_type": "code",
   "execution_count": 6,
   "id": "3d634014-983b-465f-ad84-887871de89b7",
   "metadata": {},
   "outputs": [],
   "source": [
    "str=\"123\""
   ]
  },
  {
   "cell_type": "code",
   "execution_count": 8,
   "id": "a7a1787a-7214-40c9-88fc-822bf4a1b854",
   "metadata": {},
   "outputs": [
    {
     "name": "stdout",
     "output_type": "stream",
     "text": [
      "123123\n"
     ]
    }
   ],
   "source": [
    "print(str+str)"
   ]
  },
  {
   "cell_type": "raw",
   "id": "4e737a4e-1ccb-40c0-b83a-0f7a19e37dbc",
   "metadata": {},
   "source": [
    "print(str*3)"
   ]
  },
  {
   "cell_type": "code",
   "execution_count": 9,
   "id": "b25cd8f3-96ab-4b67-a8fd-02558c7ade67",
   "metadata": {},
   "outputs": [
    {
     "name": "stdout",
     "output_type": "stream",
     "text": [
      "123123123\n"
     ]
    }
   ],
   "source": [
    "print(str*3)"
   ]
  },
  {
   "cell_type": "code",
   "execution_count": 10,
   "id": "e11c2aec-aa4d-4d10-b96d-743cef7dbb9e",
   "metadata": {},
   "outputs": [
    {
     "name": "stdin",
     "output_type": "stream",
     "text": [
      " 123\n"
     ]
    },
    {
     "data": {
      "text/plain": [
       "'123'"
      ]
     },
     "execution_count": 10,
     "metadata": {},
     "output_type": "execute_result"
    }
   ],
   "source": [
    "input()"
   ]
  },
  {
   "cell_type": "code",
   "execution_count": null,
   "id": "a1eb489f-2e8e-48f9-9d88-8ba4a9d3d8b3",
   "metadata": {},
   "outputs": [],
   "source": [
    "print(input()+\"123\")\n",
    "print(\"hi\")\n",
    "print(input())\n"
   ]
  }
 ],
 "metadata": {
  "kernelspec": {
   "display_name": "Python 3 (ipykernel)",
   "language": "python",
   "name": "python3"
  },
  "language_info": {
   "codemirror_mode": {
    "name": "ipython",
    "version": 3
   },
   "file_extension": ".py",
   "mimetype": "text/x-python",
   "name": "python",
   "nbconvert_exporter": "python",
   "pygments_lexer": "ipython3",
   "version": "3.13.3"
  }
 },
 "nbformat": 4,
 "nbformat_minor": 5
}
