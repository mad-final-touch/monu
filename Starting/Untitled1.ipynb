{
 "cells": [
  {
   "cell_type": "code",
   "execution_count": 1,
   "id": "9ceeec9a-31a9-435e-9f2e-59de9949c5b9",
   "metadata": {},
   "outputs": [
    {
     "name": "stdin",
     "output_type": "stream",
     "text": [
      " abc\n"
     ]
    },
    {
     "name": "stdout",
     "output_type": "stream",
     "text": [
      "abc123\n",
      "hi\n"
     ]
    },
    {
     "name": "stdin",
     "output_type": "stream",
     "text": [
      " def\n"
     ]
    },
    {
     "name": "stdout",
     "output_type": "stream",
     "text": [
      "def\n",
      "hii\n"
     ]
    }
   ],
   "source": [
    "print(input()+\"123\")\n",
    "print(\"hi\")\n",
    "print(input())\n",
    "print(\"hii\")"
   ]
  },
  {
   "cell_type": "code",
   "execution_count": 6,
   "id": "4a54891f-7868-405b-a1d9-ab098696f963",
   "metadata": {},
   "outputs": [
    {
     "name": "stdin",
     "output_type": "stream",
     "text": [
      "your name monu\n",
      "your password bbb\n"
     ]
    },
    {
     "name": "stdout",
     "output_type": "stream",
     "text": [
      "monu\n",
      "bbb\n"
     ]
    }
   ],
   "source": [
    "name = input(\"your name\")\n",
    "password=input(\"your password\")\n",
    "print(name)\n",
    "print(password)"
   ]
  },
  {
   "cell_type": "markdown",
   "id": "00d1dad0-0fba-48d1-b2fb-007887853212",
   "metadata": {},
   "source": [
    "\n"
   ]
  },
  {
   "cell_type": "code",
   "execution_count": 18,
   "id": "317b89c2-3bc6-4af7-91f0-4c20fd5db874",
   "metadata": {},
   "outputs": [
    {
     "name": "stdin",
     "output_type": "stream",
     "text": [
      "enter\"w\"to withdraw or\"d\"to deposit w\n",
      "Enter password fegf\n"
     ]
    },
    {
     "name": "stdout",
     "output_type": "stream",
     "text": [
      "wrong password attemt left\n",
      "2\n"
     ]
    },
    {
     "name": "stdin",
     "output_type": "stream",
     "text": [
      "Enter password fedg\n"
     ]
    },
    {
     "name": "stdout",
     "output_type": "stream",
     "text": [
      "wrong password attemt left\n",
      "1\n"
     ]
    },
    {
     "name": "stdin",
     "output_type": "stream",
     "text": [
      "Enter password abc123\n"
     ]
    },
    {
     "name": "stdout",
     "output_type": "stream",
     "text": [
      "withdraw succesfull\n",
      "thank you\n"
     ]
    }
   ],
   "source": [
    "apswd=\"abc123\"\n",
    "\n",
    "transation_type=input('enter\"w\"to withdraw or\"d\"to deposit')\n",
    "\n",
    "if transation_type==\"w\":\n",
    "    upswd=input(\"Enter password\")\n",
    "    i=1\n",
    "    while apswd!=upswd:\n",
    "        print('wrong password attemt left')\n",
    "        print(3-i)\n",
    "        upswd=input(\"Enter password\")\n",
    "        i=i+1\n",
    "        if i ==3:\n",
    "            break\n",
    "    if apswd==upswd:\n",
    "        print(\"withdraw succesfull\")\n",
    "else:\n",
    "    print(\"d\")\n",
    "print(\"thank you\")    \n"
   ]
  },
  {
   "cell_type": "code",
   "execution_count": null,
   "id": "d47ae41c-7d3a-4d34-b5f2-b0c030a9548c",
   "metadata": {},
   "outputs": [],
   "source": []
  }
 ],
 "metadata": {
  "kernelspec": {
   "display_name": "Python 3 (ipykernel)",
   "language": "python",
   "name": "python3"
  },
  "language_info": {
   "codemirror_mode": {
    "name": "ipython",
    "version": 3
   },
   "file_extension": ".py",
   "mimetype": "text/x-python",
   "name": "python",
   "nbconvert_exporter": "python",
   "pygments_lexer": "ipython3",
   "version": "3.13.3"
  }
 },
 "nbformat": 4,
 "nbformat_minor": 5
}
