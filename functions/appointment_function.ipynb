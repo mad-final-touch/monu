{
 "cells": [
  {
   "cell_type": "code",
   "execution_count": 10,
   "id": "72359a4c-c335-4692-8bed-66a64939f1d7",
   "metadata": {},
   "outputs": [
    {
     "name": "stdout",
     "output_type": "stream",
     "text": [
      "today slot is avl 3 11\n"
     ]
    },
    {
     "name": "stdin",
     "output_type": "stream",
     "text": [
      " 11\n"
     ]
    },
    {
     "name": "stdout",
     "output_type": "stream",
     "text": [
      "booked sucesfully\n",
      "today slot is avl 2 12\n"
     ]
    },
    {
     "name": "stdin",
     "output_type": "stream",
     "text": [
      " 12\n"
     ]
    },
    {
     "name": "stdout",
     "output_type": "stream",
     "text": [
      "booked sucesfully\n",
      "today slot is avl 1 13\n"
     ]
    },
    {
     "name": "stdin",
     "output_type": "stream",
     "text": [
      " 13\n"
     ]
    },
    {
     "name": "stdout",
     "output_type": "stream",
     "text": [
      "booked sucesfully\n",
      "sorry try tommorow\n"
     ]
    }
   ],
   "source": [
    "#input list and \n",
    "# return no of avl slot, \n",
    "# work count avl slot\n",
    "def avl_slot_count(lst): \n",
    "    i=0\n",
    "    count=0\n",
    "    n=len(lst)\n",
    "    while i<=n-1:\n",
    "        if lst[i]==True:\n",
    "            count=count+1\n",
    "        i=i+1\n",
    "    return count\n",
    "            \n",
    "#input list,ind of avl slot to book\n",
    "# return T/F\n",
    "# work update the list after booking\n",
    "def book_avl_slot(lst,ind):\n",
    "    if lst[ind]==True:\n",
    "        lst[ind]=False\n",
    "        return True\n",
    "    else:\n",
    "        return False\n",
    "#input list\n",
    "#return ind\n",
    "#work determine the ind of first avl slot\n",
    "def erl_avl_slot(lst):\n",
    "    if today_avl_slot(lst)==True:\n",
    "        i=0\n",
    "        while lst[i]==False:\n",
    "            i=i+1\n",
    "        return i\n",
    "    pass\n",
    "#input list\n",
    "#return T/F\n",
    "#work determine slot avl or not\n",
    "def today_avl_slot(lst):\n",
    "    if avl_slot_count(lst)==0:\n",
    "        return False\n",
    "    else:\n",
    "        return True\n",
    "\n",
    "lst=[False,False,True,True,True,False]\n",
    "while today_avl_slot(lst)==True:\n",
    "    print('today slot is avl',avl_slot_count(lst),erl_avl_slot(lst)+9)\n",
    "    while book_avl_slot(lst,int(input())-9)==False:\n",
    "        print('try again')\n",
    "    print('booked sucesfully')\n",
    "    \n",
    "\n",
    "print('all slots are booked try tommorow')"
   ]
  },
  {
   "cell_type": "code",
   "execution_count": null,
   "id": "72a9cbad-ac53-48db-9bb8-4982d2b76fe7",
   "metadata": {},
   "outputs": [],
   "source": []
  }
 ],
 "metadata": {
  "kernelspec": {
   "display_name": "Python 3 (ipykernel)",
   "language": "python",
   "name": "python3"
  },
  "language_info": {
   "codemirror_mode": {
    "name": "ipython",
    "version": 3
   },
   "file_extension": ".py",
   "mimetype": "text/x-python",
   "name": "python",
   "nbconvert_exporter": "python",
   "pygments_lexer": "ipython3",
   "version": "3.13.3"
  }
 },
 "nbformat": 4,
 "nbformat_minor": 5
}
