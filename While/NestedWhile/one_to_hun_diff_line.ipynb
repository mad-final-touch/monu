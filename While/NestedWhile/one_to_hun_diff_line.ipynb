{
 "cells": [
  {
   "cell_type": "code",
   "execution_count": 1,
   "id": "2fc8bce6-1124-457b-92bb-6f6d76d9c2e0",
   "metadata": {},
   "outputs": [
    {
     "name": "stdout",
     "output_type": "stream",
     "text": [
      "hi\n"
     ]
    }
   ],
   "source": [
    "print(\"hi\")"
   ]
  },
  {
   "cell_type": "code",
   "execution_count": 7,
   "id": "4319ec4e-a3b0-4e40-afa9-2718ad5e797d",
   "metadata": {},
   "outputs": [
    {
     "name": "stdout",
     "output_type": "stream",
     "text": [
      "51  52  53  54  55  56  57  58  59  60  "
     ]
    }
   ],
   "source": [
    "j=6\n",
    "i=j*10+1\n",
    "while i<=j*10+10:\n",
    "    print(i,\" \",end=\"\")\n",
    "    i=i+1"
   ]
  },
  {
   "cell_type": "code",
   "execution_count": 15,
   "id": "7908e9b7-d614-4108-987d-e6aad586f183",
   "metadata": {},
   "outputs": [
    {
     "name": "stdout",
     "output_type": "stream",
     "text": [
      "101  102  103  104  105  106  107  108  109  110  \n",
      "111  112  113  114  115  116  117  118  119  120  \n",
      "121  122  123  124  125  126  127  128  129  130  \n",
      "131  132  133  134  135  136  137  138  139  140  \n",
      "141  142  143  144  145  146  147  148  149  150  \n",
      "151  152  153  154  155  156  157  158  159  160  \n",
      "161  162  163  164  165  166  167  168  169  170  \n",
      "171  172  173  174  175  176  177  178  179  180  \n",
      "181  182  183  184  185  186  187  188  189  190  \n",
      "191  192  193  194  195  196  197  198  199  200  \n"
     ]
    }
   ],
   "source": [
    "def print_jth_line(j):\n",
    "    i=j*10+1\n",
    "    while i<=j*10+10:\n",
    "        print(i,\" \",end=\"\")\n",
    "        i=i+1\n",
    "    print()\n",
    "i=10\n",
    "while i<=19:\n",
    "    print_jth_line(i)\n",
    "    i=i+1\n",
    "\n"
   ]
  },
  {
   "cell_type": "code",
   "execution_count": 17,
   "id": "ca462d63-cb95-41c4-a594-9e1d35ebef25",
   "metadata": {},
   "outputs": [
    {
     "name": "stdout",
     "output_type": "stream",
     "text": [
      "301  302  303  304  305  306  307  308  309  310  \n",
      "311  312  313  314  315  316  317  318  319  320  \n",
      "321  322  323  324  325  326  327  328  329  330  \n",
      "331  332  333  334  335  336  337  338  339  340  \n",
      "341  342  343  344  345  346  347  348  349  350  \n",
      "351  352  353  354  355  356  357  358  359  360  \n",
      "361  362  363  364  365  366  367  368  369  370  \n",
      "371  372  373  374  375  376  377  378  379  380  \n",
      "381  382  383  384  385  386  387  388  389  390  \n",
      "391  392  393  394  395  396  397  398  399  400  \n"
     ]
    }
   ],
   "source": [
    "def print_jth_line(j):\n",
    "    i=j*10+1\n",
    "    while i<=j*10+10:\n",
    "        print(i,\" \",end=\"\")\n",
    "        i=i+1\n",
    "    print()\n",
    "\n",
    "\n",
    "def range_of_i(start,end):\n",
    "    i=start\n",
    "    while i<=end:\n",
    "        print_jth_line(i)\n",
    "        i=i+1\n",
    "# range_of_i(10,19)\n",
    "range_of_i(30,39)"
   ]
  },
  {
   "cell_type": "code",
   "execution_count": 19,
   "id": "5ca42a1a-6f3f-4dd1-bcba-5cdb77d85009",
   "metadata": {},
   "outputs": [
    {
     "name": "stdout",
     "output_type": "stream",
     "text": [
      "*\n",
      "**\n",
      "***\n",
      "****\n",
      "*****\n"
     ]
    }
   ],
   "source": [
    "def print_n_star(n):\n",
    "    print(n*'*')\n",
    "# print_n_star(3)\n",
    "i=1\n",
    "while i<=5:\n",
    "    print_n_star(i)\n",
    "    i=i+1"
   ]
  },
  {
   "cell_type": "code",
   "execution_count": 22,
   "id": "42037210-22f8-44b3-be78-3d3134e32564",
   "metadata": {},
   "outputs": [
    {
     "name": "stdout",
     "output_type": "stream",
     "text": [
      "****\n",
      "*****\n",
      "******\n",
      "*******\n",
      "********\n",
      "*********\n"
     ]
    }
   ],
   "source": [
    "def print_n_star(n):\n",
    "    print(n*'*')\n",
    "# print_n_star(3)\n",
    "def till_rth_row(startr,endr):\n",
    "    i=startr\n",
    "    while i<=endr:\n",
    "        print_n_star(i)\n",
    "        i=i+1\n",
    "till_rth_row(4,9)"
   ]
  },
  {
   "cell_type": "code",
   "execution_count": 29,
   "id": "c7c1d764-7e34-411d-ba67-9d8597b267c2",
   "metadata": {},
   "outputs": [
    {
     "name": "stdout",
     "output_type": "stream",
     "text": [
      "*\n",
      "**\n",
      "***\n",
      "****\n",
      "***\n",
      "**\n",
      "*\n"
     ]
    }
   ],
   "source": [
    "def print_n_star(n):\n",
    "    print(n*'*')\n",
    "# print_n_star(3)\n",
    "def print_st_pattern(startr,endr):\n",
    "    if startr<endr:\n",
    "        i=startr\n",
    "        while i<=endr:\n",
    "            print_n_star(i)\n",
    "            i=i+1\n",
    "    else:\n",
    "        i=startr\n",
    "        while i>=endr:\n",
    "            print_n_star(i)\n",
    "            i=i-1\n",
    "        \n",
    "print_st_pattern(1,4)\n",
    "print_st_pattern(3,1)"
   ]
  },
  {
   "cell_type": "code",
   "execution_count": null,
   "id": "9bd53179-9518-4a48-bd7a-a2f95c2bfae0",
   "metadata": {},
   "outputs": [],
   "source": []
  }
 ],
 "metadata": {
  "kernelspec": {
   "display_name": "Python 3 (ipykernel)",
   "language": "python",
   "name": "python3"
  },
  "language_info": {
   "codemirror_mode": {
    "name": "ipython",
    "version": 3
   },
   "file_extension": ".py",
   "mimetype": "text/x-python",
   "name": "python",
   "nbconvert_exporter": "python",
   "pygments_lexer": "ipython3",
   "version": "3.13.3"
  }
 },
 "nbformat": 4,
 "nbformat_minor": 5
}
