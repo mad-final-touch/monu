{
 "cells": [
  {
   "cell_type": "code",
   "execution_count": 9,
   "id": "ee9c92b0-ed3d-4c35-b6a9-6273965efaf2",
   "metadata": {},
   "outputs": [
    {
     "name": "stdout",
     "output_type": "stream",
     "text": [
      "s\n",
      "ss\n",
      "sss\n",
      "ssss\n",
      "sssss\n",
      "ssss\n",
      "sss\n",
      "ss\n",
      "s\n"
     ]
    }
   ],
   "source": [
    "i=1\n",
    "while i<=5:\n",
    "    print(\"s\"*i)\n",
    "    i=i+1\n",
    "i=4\n",
    "while i>=1:\n",
    "    print(\"s\"*i)\n",
    "    i=i-1"
   ]
  },
  {
   "cell_type": "code",
   "execution_count": null,
   "id": "0b4174aa-8e0e-44b7-a9f5-e79c1f93aee4",
   "metadata": {},
   "outputs": [],
   "source": []
  }
 ],
 "metadata": {
  "kernelspec": {
   "display_name": "Python 3 (ipykernel)",
   "language": "python",
   "name": "python3"
  },
  "language_info": {
   "codemirror_mode": {
    "name": "ipython",
    "version": 3
   },
   "file_extension": ".py",
   "mimetype": "text/x-python",
   "name": "python",
   "nbconvert_exporter": "python",
   "pygments_lexer": "ipython3",
   "version": "3.13.3"
  }
 },
 "nbformat": 4,
 "nbformat_minor": 5
}
